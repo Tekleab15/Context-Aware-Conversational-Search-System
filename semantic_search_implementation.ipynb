{
  "metadata": {
    "kernelspec": {
      "language": "python",
      "display_name": "Python 3",
      "name": "python3"
    },
    "language_info": {
      "name": "python",
      "version": "3.10.12",
      "mimetype": "text/x-python",
      "codemirror_mode": {
        "name": "ipython",
        "version": 3
      },
      "pygments_lexer": "ipython3",
      "nbconvert_exporter": "python",
      "file_extension": ".py"
    },
    "kaggle": {
      "accelerator": "none",
      "dataSources": [],
      "dockerImageVersionId": 30918,
      "isInternetEnabled": true,
      "language": "python",
      "sourceType": "notebook",
      "isGpuEnabled": false
    },
    "colab": {
      "provenance": [],
      "include_colab_link": true
    }
  },
  "nbformat_minor": 0,
  "nbformat": 4,
  "cells": [
    {
      "cell_type": "markdown",
      "metadata": {
        "id": "view-in-github",
        "colab_type": "text"
      },
      "source": [
        "<a href=\"https://colab.research.google.com/github/Tekleab15/Context-Aware-Conversational-Search-System/blob/main/semantic_search_implementation.ipynb\" target=\"_parent\"><img src=\"https://colab.research.google.com/assets/colab-badge.svg\" alt=\"Open In Colab\"/></a>"
      ]
    },
    {
      "cell_type": "markdown",
      "source": [
        "**Implmenting the semantic search and measuring the cosine similarity**"
      ],
      "metadata": {
        "id": "Ehmc5hPaYegc"
      }
    },
    {
      "cell_type": "markdown",
      "source": [
        "Import all required modules and mounting the drive"
      ],
      "metadata": {
        "id": "CJOkr2Av2T4O"
      }
    },
    {
      "cell_type": "code",
      "source": [
        "import numpy as np\n",
        "import pandas as pd\n",
        "import tensorflow as tf\n",
        "from sentence_transformers import SentenceTransformer\n",
        "from sklearn.metrics.pairwise import cosine_similarity\n",
        "from google.colab import drive\n",
        "drive.mount('/content/drive')\n",
        "\n",
        "print(\"Run and mounted Successfully!\")"
      ],
      "metadata": {
        "trusted": true,
        "execution": {
          "iopub.status.busy": "2025-03-11T11:33:41.587569Z",
          "iopub.execute_input": "2025-03-11T11:33:41.587967Z",
          "iopub.status.idle": "2025-03-11T11:33:41.593932Z",
          "shell.execute_reply.started": "2025-03-11T11:33:41.587935Z",
          "shell.execute_reply": "2025-03-11T11:33:41.592787Z"
        },
        "colab": {
          "base_uri": "https://localhost:8080/"
        },
        "id": "1UbKJsjTYegh",
        "outputId": "cc1aa655-6759-4ff8-9941-056fb28de49f"
      },
      "outputs": [
        {
          "output_type": "stream",
          "name": "stdout",
          "text": [
            "Drive already mounted at /content/drive; to attempt to forcibly remount, call drive.mount(\"/content/drive\", force_remount=True).\n",
            "Run and mounted Successfully!\n"
          ]
        }
      ],
      "execution_count": 24
    },
    {
      "cell_type": "code",
      "source": [
        "# Load the pre-computed embeddings\n",
        "embeddings_instructions = np.load('/content/drive/My Drive/Conversational_semantic_search/embeddings_instructions.npy')\n",
        "embeddings_responses = np.load('/content/drive/My Drive/Conversational_semantic_search/embeddings_responses.npy')\n",
        "model = SentenceTransformer('all-mpnet-base-v2')\n",
        "\n",
        "data_path = '/content/drive/My Drive/Conversational_semantic_search/Customer_service_preprocessed_.csv'\n",
        "df = pd.read_csv(data_path)\n",
        "\n",
        "def get_response(user_query, model, embeddings_instructions, df):\n",
        "    query_embedding = model.encode([user_query])\n",
        "    similarities = cosine_similarity(query_embedding, embeddings_instructions)\n",
        "    best_match_index = similarities.argmax()\n",
        "    best_response = df.iloc[best_match_index]['response']\n",
        "    return best_response\n",
        "\n",
        "# Example of queries\n",
        "user_query = \"How can I cancel my order?\"\n",
        "response = get_response(user_query, model, embeddings_instructions, df)\n",
        "print(\"Response:\", response)\n"
      ],
      "metadata": {
        "_uuid": "8f2839f25d086af736a60e9eeb907d3b93b6e0e5",
        "_cell_guid": "b1076dfc-b9ad-4769-8c92-a6c4dae69d19",
        "trusted": true,
        "execution": {
          "iopub.status.busy": "2025-03-11T11:33:47.103846Z",
          "iopub.execute_input": "2025-03-11T11:33:47.104239Z",
          "iopub.status.idle": "2025-03-11T11:33:47.220287Z",
          "shell.execute_reply.started": "2025-03-11T11:33:47.104211Z",
          "shell.execute_reply": "2025-03-11T11:33:47.218694Z"
        },
        "colab": {
          "base_uri": "https://localhost:8080/"
        },
        "id": "kHckZRTvYegm",
        "outputId": "68ec5e75-4706-422d-8870-195e06449452"
      },
      "outputs": [
        {
          "output_type": "stream",
          "name": "stdout",
          "text": [
            "Response: Assuredly! I understand that you want to cancel the purchase you made. Let me guide you through the process step by step: \n",
            "\n",
            "1. Log in to your {{Online Company Portal Info}} using your credentials.\n",
            "2. Navigate to the '{{Online Order Interaction}}' or '{{Online Order Interaction}}' section, where you can find a list of your previous purchases.\n",
            "3. Identify the specific purchase you want to cancel. You may need to search for it by order number or date.\n",
            "4. Once you've located the purchase, look for an option labeled '{{Online Order Interaction}}' or something similar. Click on it.\n",
            "5. Follow the instructions provided by the system to complete the cancellation process.\n",
            "\n",
            "If you encounter any difficulties or have any questions along the way, our dedicated customer support team is here to assist you. You can reach us during {{Customer Support Hours}} at {{Customer Support Phone Number}} or through the Live Chat on our website at {{Website URL}}. We value your satisfaction and will do our best to help you with your cancellation request.\n"
          ]
        }
      ],
      "execution_count": 25
    },
    {
      "cell_type": "code",
      "source": [
        "user_query = \"How can I get schedule for the next sunday? make it clear and scrutnize it into sections ?\"\n",
        "response = get_response(user_query, model, embeddings_instructions, df)\n",
        "print(\"Response:\", response)"
      ],
      "metadata": {
        "colab": {
          "base_uri": "https://localhost:8080/"
        },
        "id": "f3Yux0hOn2Gg",
        "outputId": "d0a0a5eb-26de-4821-d371-204b5246347a"
      },
      "execution_count": 20,
      "outputs": [
        {
          "output_type": "stream",
          "name": "stdout",
          "text": [
            "Response: We're listening! I'm keyed into the fact that you'd like to know how to find the operating hours to contact our customer service team. To view the hours when our team is available, you can visit our website and navigate to the \"Contact Us\" or \"Support\" section. There, you should find the information you need regarding our customer service hours. If you have any other questions or concerns, feel free to let me know. I'm here to assist you further.\n",
            "\n"
          ]
        }
      ]
    },
    {
      "cell_type": "code",
      "source": [
        "user_query = \"I am going to the journey of having the implication of the symposium ?\"\n",
        "response = get_response(user_query, model, embeddings_instructions, df)\n",
        "print(\"Response:\", response)"
      ],
      "metadata": {
        "colab": {
          "base_uri": "https://localhost:8080/"
        },
        "id": "4NfFRCkHo-uJ",
        "outputId": "b179ca45-3b88-47dc-a38f-0455ac09d3d1"
      },
      "execution_count": 22,
      "outputs": [
        {
          "output_type": "stream",
          "name": "stdout",
          "text": [
            "Response: Thank you so much for expressing your interest in acquiring some of our articles! I'm here to provide you with the assistance you need and guide you through the process. To start, could you please let me know which specific articles you are looking to acquire? Once I have this information, I will be able to provide you with clear instructions and support every step of the way.\n"
          ]
        }
      ]
    },
    {
      "cell_type": "code",
      "source": [
        "user_query = \"I want to change my appointment for the next section of the project ?\"\n",
        "response = get_response(user_query, model, embeddings_instructions, df)\n",
        "print(\"Response:\", response)"
      ],
      "metadata": {
        "colab": {
          "base_uri": "https://localhost:8080/"
        },
        "id": "RRydbc0Zpryc",
        "outputId": "96eeccf5-c577-41ed-d63a-6e56b785d57b"
      },
      "execution_count": 23,
      "outputs": [
        {
          "output_type": "stream",
          "name": "stdout",
          "text": [
            "Response: Certainly! I can assist you with editing your delivery address. To do so, please log in to your account and navigate to the \"Account Settings\" or \"Shipping Address\" section. From there, you should be able to make the necessary changes. If you encounter any issues or need further guidance, feel free to reach out to our customer support team, and they will be more than happy to help you.\n"
          ]
        }
      ]
    }
  ]
}