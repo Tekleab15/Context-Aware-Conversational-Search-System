{
  "metadata": {
    "kernelspec": {
      "language": "python",
      "display_name": "Python 3",
      "name": "python3"
    },
    "language_info": {
      "name": "python",
      "version": "3.10.12",
      "mimetype": "text/x-python",
      "codemirror_mode": {
        "name": "ipython",
        "version": 3
      },
      "pygments_lexer": "ipython3",
      "nbconvert_exporter": "python",
      "file_extension": ".py"
    },
    "kaggle": {
      "accelerator": "none",
      "dataSources": [],
      "dockerImageVersionId": 30918,
      "isInternetEnabled": true,
      "language": "python",
      "sourceType": "notebook",
      "isGpuEnabled": false
    },
    "colab": {
      "provenance": [],
      "include_colab_link": true
    },
    "widgets": {
      "application/vnd.jupyter.widget-state+json": {
        "1c72f75f72574673b7e01447525dc0e5": {
          "model_module": "@jupyter-widgets/controls",
          "model_name": "HBoxModel",
          "model_module_version": "1.5.0",
          "state": {
            "_dom_classes": [],
            "_model_module": "@jupyter-widgets/controls",
            "_model_module_version": "1.5.0",
            "_model_name": "HBoxModel",
            "_view_count": null,
            "_view_module": "@jupyter-widgets/controls",
            "_view_module_version": "1.5.0",
            "_view_name": "HBoxView",
            "box_style": "",
            "children": [
              "IPY_MODEL_c355733ee1fb4fecb9f514bc483b5ff1",
              "IPY_MODEL_d499ef1e62964416994004b7c3a7a642",
              "IPY_MODEL_9b58398f25f947f7bd668214b895beac"
            ],
            "layout": "IPY_MODEL_bcaeb09e3aaf46cc8568445dade3a6eb"
          }
        },
        "c355733ee1fb4fecb9f514bc483b5ff1": {
          "model_module": "@jupyter-widgets/controls",
          "model_name": "HTMLModel",
          "model_module_version": "1.5.0",
          "state": {
            "_dom_classes": [],
            "_model_module": "@jupyter-widgets/controls",
            "_model_module_version": "1.5.0",
            "_model_name": "HTMLModel",
            "_view_count": null,
            "_view_module": "@jupyter-widgets/controls",
            "_view_module_version": "1.5.0",
            "_view_name": "HTMLView",
            "description": "",
            "description_tooltip": null,
            "layout": "IPY_MODEL_fc1fbdf192684dae90aa0215e04afb0e",
            "placeholder": "​",
            "style": "IPY_MODEL_b016e19db5ca42d6af0177903ae83e6c",
            "value": "Map: 100%"
          }
        },
        "d499ef1e62964416994004b7c3a7a642": {
          "model_module": "@jupyter-widgets/controls",
          "model_name": "FloatProgressModel",
          "model_module_version": "1.5.0",
          "state": {
            "_dom_classes": [],
            "_model_module": "@jupyter-widgets/controls",
            "_model_module_version": "1.5.0",
            "_model_name": "FloatProgressModel",
            "_view_count": null,
            "_view_module": "@jupyter-widgets/controls",
            "_view_module_version": "1.5.0",
            "_view_name": "ProgressView",
            "bar_style": "success",
            "description": "",
            "description_tooltip": null,
            "layout": "IPY_MODEL_0e2076831e3a4476ba18f915f359ca55",
            "max": 26872,
            "min": 0,
            "orientation": "horizontal",
            "style": "IPY_MODEL_d7844145f2d84c7094ba101842fc4641",
            "value": 26872
          }
        },
        "9b58398f25f947f7bd668214b895beac": {
          "model_module": "@jupyter-widgets/controls",
          "model_name": "HTMLModel",
          "model_module_version": "1.5.0",
          "state": {
            "_dom_classes": [],
            "_model_module": "@jupyter-widgets/controls",
            "_model_module_version": "1.5.0",
            "_model_name": "HTMLModel",
            "_view_count": null,
            "_view_module": "@jupyter-widgets/controls",
            "_view_module_version": "1.5.0",
            "_view_name": "HTMLView",
            "description": "",
            "description_tooltip": null,
            "layout": "IPY_MODEL_04b1597cddc84b53974495c862d4ce12",
            "placeholder": "​",
            "style": "IPY_MODEL_70d479ddf7ee4639a475467bc4939fb1",
            "value": " 26872/26872 [00:26&lt;00:00, 1864.79 examples/s]"
          }
        },
        "bcaeb09e3aaf46cc8568445dade3a6eb": {
          "model_module": "@jupyter-widgets/base",
          "model_name": "LayoutModel",
          "model_module_version": "1.2.0",
          "state": {
            "_model_module": "@jupyter-widgets/base",
            "_model_module_version": "1.2.0",
            "_model_name": "LayoutModel",
            "_view_count": null,
            "_view_module": "@jupyter-widgets/base",
            "_view_module_version": "1.2.0",
            "_view_name": "LayoutView",
            "align_content": null,
            "align_items": null,
            "align_self": null,
            "border": null,
            "bottom": null,
            "display": null,
            "flex": null,
            "flex_flow": null,
            "grid_area": null,
            "grid_auto_columns": null,
            "grid_auto_flow": null,
            "grid_auto_rows": null,
            "grid_column": null,
            "grid_gap": null,
            "grid_row": null,
            "grid_template_areas": null,
            "grid_template_columns": null,
            "grid_template_rows": null,
            "height": null,
            "justify_content": null,
            "justify_items": null,
            "left": null,
            "margin": null,
            "max_height": null,
            "max_width": null,
            "min_height": null,
            "min_width": null,
            "object_fit": null,
            "object_position": null,
            "order": null,
            "overflow": null,
            "overflow_x": null,
            "overflow_y": null,
            "padding": null,
            "right": null,
            "top": null,
            "visibility": null,
            "width": null
          }
        },
        "fc1fbdf192684dae90aa0215e04afb0e": {
          "model_module": "@jupyter-widgets/base",
          "model_name": "LayoutModel",
          "model_module_version": "1.2.0",
          "state": {
            "_model_module": "@jupyter-widgets/base",
            "_model_module_version": "1.2.0",
            "_model_name": "LayoutModel",
            "_view_count": null,
            "_view_module": "@jupyter-widgets/base",
            "_view_module_version": "1.2.0",
            "_view_name": "LayoutView",
            "align_content": null,
            "align_items": null,
            "align_self": null,
            "border": null,
            "bottom": null,
            "display": null,
            "flex": null,
            "flex_flow": null,
            "grid_area": null,
            "grid_auto_columns": null,
            "grid_auto_flow": null,
            "grid_auto_rows": null,
            "grid_column": null,
            "grid_gap": null,
            "grid_row": null,
            "grid_template_areas": null,
            "grid_template_columns": null,
            "grid_template_rows": null,
            "height": null,
            "justify_content": null,
            "justify_items": null,
            "left": null,
            "margin": null,
            "max_height": null,
            "max_width": null,
            "min_height": null,
            "min_width": null,
            "object_fit": null,
            "object_position": null,
            "order": null,
            "overflow": null,
            "overflow_x": null,
            "overflow_y": null,
            "padding": null,
            "right": null,
            "top": null,
            "visibility": null,
            "width": null
          }
        },
        "b016e19db5ca42d6af0177903ae83e6c": {
          "model_module": "@jupyter-widgets/controls",
          "model_name": "DescriptionStyleModel",
          "model_module_version": "1.5.0",
          "state": {
            "_model_module": "@jupyter-widgets/controls",
            "_model_module_version": "1.5.0",
            "_model_name": "DescriptionStyleModel",
            "_view_count": null,
            "_view_module": "@jupyter-widgets/base",
            "_view_module_version": "1.2.0",
            "_view_name": "StyleView",
            "description_width": ""
          }
        },
        "0e2076831e3a4476ba18f915f359ca55": {
          "model_module": "@jupyter-widgets/base",
          "model_name": "LayoutModel",
          "model_module_version": "1.2.0",
          "state": {
            "_model_module": "@jupyter-widgets/base",
            "_model_module_version": "1.2.0",
            "_model_name": "LayoutModel",
            "_view_count": null,
            "_view_module": "@jupyter-widgets/base",
            "_view_module_version": "1.2.0",
            "_view_name": "LayoutView",
            "align_content": null,
            "align_items": null,
            "align_self": null,
            "border": null,
            "bottom": null,
            "display": null,
            "flex": null,
            "flex_flow": null,
            "grid_area": null,
            "grid_auto_columns": null,
            "grid_auto_flow": null,
            "grid_auto_rows": null,
            "grid_column": null,
            "grid_gap": null,
            "grid_row": null,
            "grid_template_areas": null,
            "grid_template_columns": null,
            "grid_template_rows": null,
            "height": null,
            "justify_content": null,
            "justify_items": null,
            "left": null,
            "margin": null,
            "max_height": null,
            "max_width": null,
            "min_height": null,
            "min_width": null,
            "object_fit": null,
            "object_position": null,
            "order": null,
            "overflow": null,
            "overflow_x": null,
            "overflow_y": null,
            "padding": null,
            "right": null,
            "top": null,
            "visibility": null,
            "width": null
          }
        },
        "d7844145f2d84c7094ba101842fc4641": {
          "model_module": "@jupyter-widgets/controls",
          "model_name": "ProgressStyleModel",
          "model_module_version": "1.5.0",
          "state": {
            "_model_module": "@jupyter-widgets/controls",
            "_model_module_version": "1.5.0",
            "_model_name": "ProgressStyleModel",
            "_view_count": null,
            "_view_module": "@jupyter-widgets/base",
            "_view_module_version": "1.2.0",
            "_view_name": "StyleView",
            "bar_color": null,
            "description_width": ""
          }
        },
        "04b1597cddc84b53974495c862d4ce12": {
          "model_module": "@jupyter-widgets/base",
          "model_name": "LayoutModel",
          "model_module_version": "1.2.0",
          "state": {
            "_model_module": "@jupyter-widgets/base",
            "_model_module_version": "1.2.0",
            "_model_name": "LayoutModel",
            "_view_count": null,
            "_view_module": "@jupyter-widgets/base",
            "_view_module_version": "1.2.0",
            "_view_name": "LayoutView",
            "align_content": null,
            "align_items": null,
            "align_self": null,
            "border": null,
            "bottom": null,
            "display": null,
            "flex": null,
            "flex_flow": null,
            "grid_area": null,
            "grid_auto_columns": null,
            "grid_auto_flow": null,
            "grid_auto_rows": null,
            "grid_column": null,
            "grid_gap": null,
            "grid_row": null,
            "grid_template_areas": null,
            "grid_template_columns": null,
            "grid_template_rows": null,
            "height": null,
            "justify_content": null,
            "justify_items": null,
            "left": null,
            "margin": null,
            "max_height": null,
            "max_width": null,
            "min_height": null,
            "min_width": null,
            "object_fit": null,
            "object_position": null,
            "order": null,
            "overflow": null,
            "overflow_x": null,
            "overflow_y": null,
            "padding": null,
            "right": null,
            "top": null,
            "visibility": null,
            "width": null
          }
        },
        "70d479ddf7ee4639a475467bc4939fb1": {
          "model_module": "@jupyter-widgets/controls",
          "model_name": "DescriptionStyleModel",
          "model_module_version": "1.5.0",
          "state": {
            "_model_module": "@jupyter-widgets/controls",
            "_model_module_version": "1.5.0",
            "_model_name": "DescriptionStyleModel",
            "_view_count": null,
            "_view_module": "@jupyter-widgets/base",
            "_view_module_version": "1.2.0",
            "_view_name": "StyleView",
            "description_width": ""
          }
        },
        "4aac1dce40a44e2ea1b5523a8275330d": {
          "model_module": "@jupyter-widgets/controls",
          "model_name": "HBoxModel",
          "model_module_version": "1.5.0",
          "state": {
            "_dom_classes": [],
            "_model_module": "@jupyter-widgets/controls",
            "_model_module_version": "1.5.0",
            "_model_name": "HBoxModel",
            "_view_count": null,
            "_view_module": "@jupyter-widgets/controls",
            "_view_module_version": "1.5.0",
            "_view_name": "HBoxView",
            "box_style": "",
            "children": [
              "IPY_MODEL_947c7d3cb48e4b5ca522d4950e9bf772",
              "IPY_MODEL_6c28dffc43884f2da9ca4150e7bc6aa6",
              "IPY_MODEL_97ac98aaafd44101abecdc2812d289b9"
            ],
            "layout": "IPY_MODEL_0a6231a5fe5146528b204b83c427c2fe"
          }
        },
        "947c7d3cb48e4b5ca522d4950e9bf772": {
          "model_module": "@jupyter-widgets/controls",
          "model_name": "HTMLModel",
          "model_module_version": "1.5.0",
          "state": {
            "_dom_classes": [],
            "_model_module": "@jupyter-widgets/controls",
            "_model_module_version": "1.5.0",
            "_model_name": "HTMLModel",
            "_view_count": null,
            "_view_module": "@jupyter-widgets/controls",
            "_view_module_version": "1.5.0",
            "_view_name": "HTMLView",
            "description": "",
            "description_tooltip": null,
            "layout": "IPY_MODEL_bb01d37bbfb14d818b4135b2ace51db6",
            "placeholder": "​",
            "style": "IPY_MODEL_d215c62ec62d4684aa4383e5317988eb",
            "value": "Map: 100%"
          }
        },
        "6c28dffc43884f2da9ca4150e7bc6aa6": {
          "model_module": "@jupyter-widgets/controls",
          "model_name": "FloatProgressModel",
          "model_module_version": "1.5.0",
          "state": {
            "_dom_classes": [],
            "_model_module": "@jupyter-widgets/controls",
            "_model_module_version": "1.5.0",
            "_model_name": "FloatProgressModel",
            "_view_count": null,
            "_view_module": "@jupyter-widgets/controls",
            "_view_module_version": "1.5.0",
            "_view_name": "ProgressView",
            "bar_style": "success",
            "description": "",
            "description_tooltip": null,
            "layout": "IPY_MODEL_2fa9f50d124c4e66a14888c2fa096b84",
            "max": 26872,
            "min": 0,
            "orientation": "horizontal",
            "style": "IPY_MODEL_fc2e52d60c9942978e5f8ad30960f105",
            "value": 26872
          }
        },
        "97ac98aaafd44101abecdc2812d289b9": {
          "model_module": "@jupyter-widgets/controls",
          "model_name": "HTMLModel",
          "model_module_version": "1.5.0",
          "state": {
            "_dom_classes": [],
            "_model_module": "@jupyter-widgets/controls",
            "_model_module_version": "1.5.0",
            "_model_name": "HTMLModel",
            "_view_count": null,
            "_view_module": "@jupyter-widgets/controls",
            "_view_module_version": "1.5.0",
            "_view_name": "HTMLView",
            "description": "",
            "description_tooltip": null,
            "layout": "IPY_MODEL_a93c5a70fabc408eb024a308c133b57c",
            "placeholder": "​",
            "style": "IPY_MODEL_a0234b59951441a38bb9cab30e5e74c7",
            "value": " 26872/26872 [00:00&lt;00:00, 43217.00 examples/s]"
          }
        },
        "0a6231a5fe5146528b204b83c427c2fe": {
          "model_module": "@jupyter-widgets/base",
          "model_name": "LayoutModel",
          "model_module_version": "1.2.0",
          "state": {
            "_model_module": "@jupyter-widgets/base",
            "_model_module_version": "1.2.0",
            "_model_name": "LayoutModel",
            "_view_count": null,
            "_view_module": "@jupyter-widgets/base",
            "_view_module_version": "1.2.0",
            "_view_name": "LayoutView",
            "align_content": null,
            "align_items": null,
            "align_self": null,
            "border": null,
            "bottom": null,
            "display": null,
            "flex": null,
            "flex_flow": null,
            "grid_area": null,
            "grid_auto_columns": null,
            "grid_auto_flow": null,
            "grid_auto_rows": null,
            "grid_column": null,
            "grid_gap": null,
            "grid_row": null,
            "grid_template_areas": null,
            "grid_template_columns": null,
            "grid_template_rows": null,
            "height": null,
            "justify_content": null,
            "justify_items": null,
            "left": null,
            "margin": null,
            "max_height": null,
            "max_width": null,
            "min_height": null,
            "min_width": null,
            "object_fit": null,
            "object_position": null,
            "order": null,
            "overflow": null,
            "overflow_x": null,
            "overflow_y": null,
            "padding": null,
            "right": null,
            "top": null,
            "visibility": null,
            "width": null
          }
        },
        "bb01d37bbfb14d818b4135b2ace51db6": {
          "model_module": "@jupyter-widgets/base",
          "model_name": "LayoutModel",
          "model_module_version": "1.2.0",
          "state": {
            "_model_module": "@jupyter-widgets/base",
            "_model_module_version": "1.2.0",
            "_model_name": "LayoutModel",
            "_view_count": null,
            "_view_module": "@jupyter-widgets/base",
            "_view_module_version": "1.2.0",
            "_view_name": "LayoutView",
            "align_content": null,
            "align_items": null,
            "align_self": null,
            "border": null,
            "bottom": null,
            "display": null,
            "flex": null,
            "flex_flow": null,
            "grid_area": null,
            "grid_auto_columns": null,
            "grid_auto_flow": null,
            "grid_auto_rows": null,
            "grid_column": null,
            "grid_gap": null,
            "grid_row": null,
            "grid_template_areas": null,
            "grid_template_columns": null,
            "grid_template_rows": null,
            "height": null,
            "justify_content": null,
            "justify_items": null,
            "left": null,
            "margin": null,
            "max_height": null,
            "max_width": null,
            "min_height": null,
            "min_width": null,
            "object_fit": null,
            "object_position": null,
            "order": null,
            "overflow": null,
            "overflow_x": null,
            "overflow_y": null,
            "padding": null,
            "right": null,
            "top": null,
            "visibility": null,
            "width": null
          }
        },
        "d215c62ec62d4684aa4383e5317988eb": {
          "model_module": "@jupyter-widgets/controls",
          "model_name": "DescriptionStyleModel",
          "model_module_version": "1.5.0",
          "state": {
            "_model_module": "@jupyter-widgets/controls",
            "_model_module_version": "1.5.0",
            "_model_name": "DescriptionStyleModel",
            "_view_count": null,
            "_view_module": "@jupyter-widgets/base",
            "_view_module_version": "1.2.0",
            "_view_name": "StyleView",
            "description_width": ""
          }
        },
        "2fa9f50d124c4e66a14888c2fa096b84": {
          "model_module": "@jupyter-widgets/base",
          "model_name": "LayoutModel",
          "model_module_version": "1.2.0",
          "state": {
            "_model_module": "@jupyter-widgets/base",
            "_model_module_version": "1.2.0",
            "_model_name": "LayoutModel",
            "_view_count": null,
            "_view_module": "@jupyter-widgets/base",
            "_view_module_version": "1.2.0",
            "_view_name": "LayoutView",
            "align_content": null,
            "align_items": null,
            "align_self": null,
            "border": null,
            "bottom": null,
            "display": null,
            "flex": null,
            "flex_flow": null,
            "grid_area": null,
            "grid_auto_columns": null,
            "grid_auto_flow": null,
            "grid_auto_rows": null,
            "grid_column": null,
            "grid_gap": null,
            "grid_row": null,
            "grid_template_areas": null,
            "grid_template_columns": null,
            "grid_template_rows": null,
            "height": null,
            "justify_content": null,
            "justify_items": null,
            "left": null,
            "margin": null,
            "max_height": null,
            "max_width": null,
            "min_height": null,
            "min_width": null,
            "object_fit": null,
            "object_position": null,
            "order": null,
            "overflow": null,
            "overflow_x": null,
            "overflow_y": null,
            "padding": null,
            "right": null,
            "top": null,
            "visibility": null,
            "width": null
          }
        },
        "fc2e52d60c9942978e5f8ad30960f105": {
          "model_module": "@jupyter-widgets/controls",
          "model_name": "ProgressStyleModel",
          "model_module_version": "1.5.0",
          "state": {
            "_model_module": "@jupyter-widgets/controls",
            "_model_module_version": "1.5.0",
            "_model_name": "ProgressStyleModel",
            "_view_count": null,
            "_view_module": "@jupyter-widgets/base",
            "_view_module_version": "1.2.0",
            "_view_name": "StyleView",
            "bar_color": null,
            "description_width": ""
          }
        },
        "a93c5a70fabc408eb024a308c133b57c": {
          "model_module": "@jupyter-widgets/base",
          "model_name": "LayoutModel",
          "model_module_version": "1.2.0",
          "state": {
            "_model_module": "@jupyter-widgets/base",
            "_model_module_version": "1.2.0",
            "_model_name": "LayoutModel",
            "_view_count": null,
            "_view_module": "@jupyter-widgets/base",
            "_view_module_version": "1.2.0",
            "_view_name": "LayoutView",
            "align_content": null,
            "align_items": null,
            "align_self": null,
            "border": null,
            "bottom": null,
            "display": null,
            "flex": null,
            "flex_flow": null,
            "grid_area": null,
            "grid_auto_columns": null,
            "grid_auto_flow": null,
            "grid_auto_rows": null,
            "grid_column": null,
            "grid_gap": null,
            "grid_row": null,
            "grid_template_areas": null,
            "grid_template_columns": null,
            "grid_template_rows": null,
            "height": null,
            "justify_content": null,
            "justify_items": null,
            "left": null,
            "margin": null,
            "max_height": null,
            "max_width": null,
            "min_height": null,
            "min_width": null,
            "object_fit": null,
            "object_position": null,
            "order": null,
            "overflow": null,
            "overflow_x": null,
            "overflow_y": null,
            "padding": null,
            "right": null,
            "top": null,
            "visibility": null,
            "width": null
          }
        },
        "a0234b59951441a38bb9cab30e5e74c7": {
          "model_module": "@jupyter-widgets/controls",
          "model_name": "DescriptionStyleModel",
          "model_module_version": "1.5.0",
          "state": {
            "_model_module": "@jupyter-widgets/controls",
            "_model_module_version": "1.5.0",
            "_model_name": "DescriptionStyleModel",
            "_view_count": null,
            "_view_module": "@jupyter-widgets/base",
            "_view_module_version": "1.2.0",
            "_view_name": "StyleView",
            "description_width": ""
          }
        }
      }
    }
  },
  "nbformat_minor": 0,
  "nbformat": 4,
  "cells": [
    {
      "cell_type": "markdown",
      "metadata": {
        "id": "view-in-github",
        "colab_type": "text"
      },
      "source": [
        "<a href=\"https://colab.research.google.com/github/Tekleab15/Context-Aware-Conversational-Search-System/blob/main/notebooks/semantic_search_implementation.ipynb\" target=\"_parent\"><img src=\"https://colab.research.google.com/assets/colab-badge.svg\" alt=\"Open In Colab\"/></a>"
      ]
    },
    {
      "cell_type": "markdown",
      "source": [
        "**Implmenting the semantic search and measuring the cosine similarity**"
      ],
      "metadata": {
        "id": "Ehmc5hPaYegc"
      }
    },
    {
      "cell_type": "markdown",
      "source": [
        "Import all required modules and mounting the drive"
      ],
      "metadata": {
        "id": "CJOkr2Av2T4O"
      }
    },
    {
      "cell_type": "code",
      "source": [
        "# Installing the gradio-UI to show results\n",
        "# !pip install gradio"
      ],
      "metadata": {
        "id": "xX76fDwhyUcE"
      },
      "execution_count": 2,
      "outputs": []
    },
    {
      "cell_type": "code",
      "source": [
        "import numpy as np\n",
        "import gradio as gr\n",
        "import pandas as pd\n",
        "import tensorflow as tf\n",
        "from sentence_transformers import SentenceTransformer\n",
        "from sklearn.metrics.pairwise import cosine_similarity\n",
        "from google.colab import drive\n",
        "drive.mount('/content/drive')\n",
        "\n",
        "print(\"Run and mounted Successfully!\")"
      ],
      "metadata": {
        "trusted": true,
        "execution": {
          "iopub.status.busy": "2025-03-11T11:33:41.587569Z",
          "iopub.execute_input": "2025-03-11T11:33:41.587967Z",
          "iopub.status.idle": "2025-03-11T11:33:41.593932Z",
          "shell.execute_reply.started": "2025-03-11T11:33:41.587935Z",
          "shell.execute_reply": "2025-03-11T11:33:41.592787Z"
        },
        "colab": {
          "base_uri": "https://localhost:8080/"
        },
        "id": "1UbKJsjTYegh",
        "outputId": "8fa5493f-3295-4494-e033-d8ac6bcf12a2"
      },
      "outputs": [
        {
          "output_type": "stream",
          "name": "stdout",
          "text": [
            "Drive already mounted at /content/drive; to attempt to forcibly remount, call drive.mount(\"/content/drive\", force_remount=True).\n",
            "Run and mounted Successfully!\n"
          ]
        }
      ],
      "execution_count": 3
    },
    {
      "cell_type": "markdown",
      "source": [
        "Loading the embeddings embeded using (SBERT)"
      ],
      "metadata": {
        "id": "A-UgbxCNCW-p"
      }
    },
    {
      "cell_type": "code",
      "source": [
        "# Load the pre-computed embeddings\n",
        "embeddings_instructions = np.load('/content/drive/My Drive/Conversational_semantic_search/embeddings_instructions.npy')\n",
        "embeddings_responses = np.load('/content/drive/My Drive/Conversational_semantic_search/embeddings_responses.npy')\n",
        "model = SentenceTransformer('all-mpnet-base-v2')\n",
        "print(\"Model loaded successfully\")\n",
        "\n",
        "data_path = '/content/drive/My Drive/Conversational_semantic_search/Customer_service_preprocessed_.csv'\n",
        "data_path1 = '/content/drive/My Drive/Conversational_semantic_search/Customer_service.csv'\n",
        "df = pd.read_csv(data_path)"
      ],
      "metadata": {
        "_uuid": "8f2839f25d086af736a60e9eeb907d3b93b6e0e5",
        "_cell_guid": "b1076dfc-b9ad-4769-8c92-a6c4dae69d19",
        "trusted": true,
        "execution": {
          "iopub.status.busy": "2025-03-11T11:33:47.103846Z",
          "iopub.execute_input": "2025-03-11T11:33:47.104239Z",
          "iopub.status.idle": "2025-03-11T11:33:47.220287Z",
          "shell.execute_reply.started": "2025-03-11T11:33:47.104211Z",
          "shell.execute_reply": "2025-03-11T11:33:47.218694Z"
        },
        "colab": {
          "base_uri": "https://localhost:8080/"
        },
        "id": "kHckZRTvYegm",
        "outputId": "740ac8f8-b2f0-4d78-c2ce-2d8dae11f2bd"
      },
      "outputs": [
        {
          "output_type": "stream",
          "name": "stderr",
          "text": [
            "/usr/local/lib/python3.11/dist-packages/huggingface_hub/utils/_auth.py:94: UserWarning: \n",
            "The secret `HF_TOKEN` does not exist in your Colab secrets.\n",
            "To authenticate with the Hugging Face Hub, create a token in your settings tab (https://huggingface.co/settings/tokens), set it as secret in your Google Colab and restart your session.\n",
            "You will be able to reuse this secret in all of your notebooks.\n",
            "Please note that authentication is recommended but still optional to access public models or datasets.\n",
            "  warnings.warn(\n"
          ]
        },
        {
          "output_type": "stream",
          "name": "stdout",
          "text": [
            "Model loaded successfully\n"
          ]
        }
      ],
      "execution_count": 4
    },
    {
      "cell_type": "markdown",
      "source": [
        "**Search implementation without using context**"
      ],
      "metadata": {
        "id": "vZyeuNf9QDzm"
      }
    },
    {
      "cell_type": "code",
      "source": [
        "# Response with out using context(memory of prior queries)\n",
        "def et_response_without_context(user_query):\n",
        "    global model\n",
        "    global embeddings_instructions\n",
        "    global df\n",
        "    if model is None:\n",
        "        return \"Error: Model not loaded. Try re-running the notebook.\"\n",
        "    try:\n",
        "        query_embedding = model.encode([user_query])\n",
        "        similarities = cosine_similarity(query_embedding, embeddings_instructions)\n",
        "        best_match_index = similarities.argmax()\n",
        "        best_response = df.iloc[best_match_index]['response']\n",
        "        return best_response\n",
        "    except Exception as e:\n",
        "        return f\"An error occurred: {str(e)}\"\n"
      ],
      "metadata": {
        "id": "_G4J5aH21a9z"
      },
      "execution_count": 5,
      "outputs": []
    },
    {
      "cell_type": "code",
      "source": [
        "print(et_response_without_context(\"How can I cancel my order?\"))"
      ],
      "metadata": {
        "colab": {
          "base_uri": "https://localhost:8080/"
        },
        "id": "nvHW3yWc1d7J",
        "outputId": "9fc6f9c8-0949-40f1-c9cc-31c8e0f1abcd"
      },
      "execution_count": 6,
      "outputs": [
        {
          "output_type": "stream",
          "name": "stdout",
          "text": [
            "Assuredly! I understand that you want to cancel the purchase you made. Let me guide you through the process step by step: \n",
            "\n",
            "1. Log in to your {{Online Company Portal Info}} using your credentials.\n",
            "2. Navigate to the '{{Online Order Interaction}}' or '{{Online Order Interaction}}' section, where you can find a list of your previous purchases.\n",
            "3. Identify the specific purchase you want to cancel. You may need to search for it by order number or date.\n",
            "4. Once you've located the purchase, look for an option labeled '{{Online Order Interaction}}' or something similar. Click on it.\n",
            "5. Follow the instructions provided by the system to complete the cancellation process.\n",
            "\n",
            "If you encounter any difficulties or have any questions along the way, our dedicated customer support team is here to assist you. You can reach us during {{Customer Support Hours}} at {{Customer Support Phone Number}} or through the Live Chat on our website at {{Website URL}}. We value your satisfaction and will do our best to help you with your cancellation request.\n"
          ]
        }
      ]
    },
    {
      "cell_type": "markdown",
      "source": [
        "**Adding Context (memory)**"
      ],
      "metadata": {
        "id": "GEnj6v36Fo--"
      }
    },
    {
      "cell_type": "code",
      "source": [
        "# Initializing session memory to store the last 2-3 queries\n",
        "session_memory = []\n",
        "\n",
        "def get_response_with_context(user_query):\n",
        "    global model\n",
        "    global embeddings_instructions\n",
        "    global df\n",
        "    global session_memory\n",
        "\n",
        "    # Check if the model is loaded\n",
        "    if model is None:\n",
        "        return \"Error: Model not loaded. Please ensure the model is loaded before querying.\"\n",
        "    try:\n",
        "        # Add the current query to the session memory (limit to the last 4 queries)\n",
        "        session_memory.append(user_query)\n",
        "        # Limiting the memory size to last 4 queries\n",
        "        if len(session_memory) > 4:\n",
        "            session_memory.pop(0)\n",
        "        # Combine all previous queries to maintain context\n",
        "        context = \" \".join(session_memory)\n",
        "        context_embedding = model.encode([context])\n",
        "        # Calculate cosine similarities between the context and embeddings\n",
        "        similarities = cosine_similarity(context_embedding, embeddings_instructions)\n",
        "\n",
        "        # Identify the best matching response based on the highest similarity\n",
        "        best_match_index = similarities.argmax()\n",
        "        best_response = df.iloc[best_match_index]['response']\n",
        "        return best_response\n",
        "    except Exception as e:\n",
        "        # Handle any unexpected errors\n",
        "        return f\"An error occurred: {str(e)}\"\n"
      ],
      "metadata": {
        "id": "CMEUf0QQFn3v"
      },
      "execution_count": 7,
      "outputs": []
    },
    {
      "cell_type": "code",
      "source": [
        "# A function that allows the user to choose between two modes:\n",
        "def chat_with_context_mode(user_query, use_context):\n",
        "    if use_context:\n",
        "        # Get response with context\n",
        "        return get_response_with_context(user_query)\n",
        "    else:\n",
        "        # Get response without context\n",
        "        return get_response_without_context(user_query)\n",
        "\n",
        "# Create the Gradio interface\n",
        "iface = gr.Interface(\n",
        "    fn=chat_with_context_mode,\n",
        "    inputs=[\n",
        "        gr.Textbox(label=\"Your Query\", placeholder=\"Ask something...\"),\n",
        "        gr.Radio([\"Without Context\", \"With Context\"], label=\"Response Mode\")\n",
        "    ],\n",
        "    outputs=\"text\",\n",
        "    live=False,\n",
        "    title=\"Context-Aware Conversational Search\",\n",
        "    description=\"This system helps answer queries with or without context. Choose the response mode!\"\n",
        ")\n",
        "# Launch the interface\n",
        "iface.launch()"
      ],
      "metadata": {
        "colab": {
          "base_uri": "https://localhost:8080/",
          "height": 646
        },
        "collapsed": true,
        "id": "-4j0G8M3Q5UY",
        "outputId": "810303fe-7592-4e2a-bc87-5a34f6833dda"
      },
      "execution_count": 8,
      "outputs": [
        {
          "output_type": "stream",
          "name": "stdout",
          "text": [
            "Running Gradio in a Colab notebook requires sharing enabled. Automatically setting `share=True` (you can turn this off by setting `share=False` in `launch()` explicitly).\n",
            "\n",
            "Colab notebook detected. To show errors in colab notebook, set debug=True in launch()\n",
            "* Running on public URL: https://16485577ebc463de2c.gradio.live\n",
            "\n",
            "This share link expires in 72 hours. For free permanent hosting and GPU upgrades, run `gradio deploy` from the terminal in the working directory to deploy to Hugging Face Spaces (https://huggingface.co/spaces)\n"
          ]
        },
        {
          "output_type": "display_data",
          "data": {
            "text/plain": [
              "<IPython.core.display.HTML object>"
            ],
            "text/html": [
              "<div><iframe src=\"https://16485577ebc463de2c.gradio.live\" width=\"100%\" height=\"500\" allow=\"autoplay; camera; microphone; clipboard-read; clipboard-write;\" frameborder=\"0\" allowfullscreen></iframe></div>"
            ]
          },
          "metadata": {}
        },
        {
          "output_type": "execute_result",
          "data": {
            "text/plain": []
          },
          "metadata": {},
          "execution_count": 8
        }
      ]
    },
    {
      "cell_type": "code",
      "source": [],
      "metadata": {
        "id": "KcMxVgiya-BF"
      },
      "execution_count": 8,
      "outputs": []
    },
    {
      "cell_type": "markdown",
      "source": [
        "**Intent recognition section**"
      ],
      "metadata": {
        "id": "Rqap2fU2a_4R"
      }
    },
    {
      "cell_type": "code",
      "source": [
        "# !pip install transformers datasets"
      ],
      "metadata": {
        "id": "_LDOdhcibMGU"
      },
      "execution_count": 9,
      "outputs": []
    },
    {
      "cell_type": "code",
      "source": [
        "import pandas as pd\n",
        "from datasets import Dataset\n",
        "from transformers import BertTokenizer, DistilBertForSequenceClassification, Trainer, TrainingArguments\n",
        "import torch\n",
        "# Load and prepare dataset\n",
        "data = pd.read_csv(data_path1)\n",
        "dataset = Dataset.from_pandas(data)\n",
        "tokenizer = BertTokenizer.from_pretrained('bert-base-uncased')\n",
        "\n",
        "# Create label mapping\n",
        "unique_labels = list(data['intent'].unique())\n",
        "label2id = {label: i for i, label in enumerate(unique_labels)}\n",
        "\n",
        "# Tokenize dataset\n",
        "def tokenize_function(examples):\n",
        "    return tokenizer(examples['instruction'], padding=\"max_length\", truncation=True)\n",
        "tokenized_datasets = dataset.map(tokenize_function, batched=True)\n",
        "tokenized_datasets = tokenized_datasets.rename_column(\"intent\", \"labels\")\n",
        "\n",
        "# Map string labels to integers\n",
        "def cast_labels_to_int(examples):\n",
        "    examples[\"labels\"] = [label2id[label] for label in examples[\"labels\"]]\n",
        "    return examples\n",
        "\n",
        "tokenized_datasets = tokenized_datasets.map(cast_labels_to_int, batched=True)\n",
        "train_test_split = tokenized_datasets.train_test_split(test_size=0.2)\n",
        "train_dataset = train_test_split['train']\n",
        "test_dataset = train_test_split['test']\n",
        "\n",
        "# Fine-tune DistilBERT model\n",
        "model = DistilBertForSequenceClassification.from_pretrained('distilbert-base-uncased', num_labels=len(unique_labels))\n",
        "training_args = TrainingArguments(\n",
        "    output_dir='./results',\n",
        "    eval_strategy=\"epoch\",\n",
        "    learning_rate=2e-5,\n",
        "    per_device_train_batch_size=8,\n",
        "    per_device_eval_batch_size=8,\n",
        "    gradient_accumulation_steps=4,\n",
        "    num_train_epochs=1,\n",
        "    logging_dir='./logs',\n",
        "    report_to=\"none\"\n",
        ")\n",
        "trainer = Trainer(model=model, args=training_args, train_dataset=train_dataset, eval_dataset=test_dataset)\n",
        "trainer.train()"
      ],
      "metadata": {
        "colab": {
          "base_uri": "https://localhost:8080/",
          "height": 194,
          "referenced_widgets": [
            "1c72f75f72574673b7e01447525dc0e5",
            "c355733ee1fb4fecb9f514bc483b5ff1",
            "d499ef1e62964416994004b7c3a7a642",
            "9b58398f25f947f7bd668214b895beac",
            "bcaeb09e3aaf46cc8568445dade3a6eb",
            "fc1fbdf192684dae90aa0215e04afb0e",
            "b016e19db5ca42d6af0177903ae83e6c",
            "0e2076831e3a4476ba18f915f359ca55",
            "d7844145f2d84c7094ba101842fc4641",
            "04b1597cddc84b53974495c862d4ce12",
            "70d479ddf7ee4639a475467bc4939fb1",
            "4aac1dce40a44e2ea1b5523a8275330d",
            "947c7d3cb48e4b5ca522d4950e9bf772",
            "6c28dffc43884f2da9ca4150e7bc6aa6",
            "97ac98aaafd44101abecdc2812d289b9",
            "0a6231a5fe5146528b204b83c427c2fe",
            "bb01d37bbfb14d818b4135b2ace51db6",
            "d215c62ec62d4684aa4383e5317988eb",
            "2fa9f50d124c4e66a14888c2fa096b84",
            "fc2e52d60c9942978e5f8ad30960f105",
            "a93c5a70fabc408eb024a308c133b57c",
            "a0234b59951441a38bb9cab30e5e74c7"
          ]
        },
        "id": "dP6rHoDAbMIv",
        "outputId": "b59d8bec-f02b-4431-c3f9-349f9ddf677d"
      },
      "execution_count": null,
      "outputs": [
        {
          "output_type": "display_data",
          "data": {
            "text/plain": [
              "Map:   0%|          | 0/26872 [00:00<?, ? examples/s]"
            ],
            "application/vnd.jupyter.widget-view+json": {
              "version_major": 2,
              "version_minor": 0,
              "model_id": "1c72f75f72574673b7e01447525dc0e5"
            }
          },
          "metadata": {}
        },
        {
          "output_type": "display_data",
          "data": {
            "text/plain": [
              "Map:   0%|          | 0/26872 [00:00<?, ? examples/s]"
            ],
            "application/vnd.jupyter.widget-view+json": {
              "version_major": 2,
              "version_minor": 0,
              "model_id": "4aac1dce40a44e2ea1b5523a8275330d"
            }
          },
          "metadata": {}
        },
        {
          "output_type": "stream",
          "name": "stderr",
          "text": [
            "Some weights of DistilBertForSequenceClassification were not initialized from the model checkpoint at distilbert-base-uncased and are newly initialized: ['classifier.bias', 'classifier.weight', 'pre_classifier.bias', 'pre_classifier.weight']\n",
            "You should probably TRAIN this model on a down-stream task to be able to use it for predictions and inference.\n"
          ]
        },
        {
          "output_type": "display_data",
          "data": {
            "text/plain": [
              "<IPython.core.display.HTML object>"
            ],
            "text/html": [
              "\n",
              "    <div>\n",
              "      \n",
              "      <progress value='6' max='672' style='width:300px; height:20px; vertical-align: middle;'></progress>\n",
              "      [  6/672 06:49 < 18:57:31, 0.01 it/s, Epoch 0.01/1]\n",
              "    </div>\n",
              "    <table border=\"1\" class=\"dataframe\">\n",
              "  <thead>\n",
              " <tr style=\"text-align: left;\">\n",
              "      <th>Epoch</th>\n",
              "      <th>Training Loss</th>\n",
              "      <th>Validation Loss</th>\n",
              "    </tr>\n",
              "  </thead>\n",
              "  <tbody>\n",
              "  </tbody>\n",
              "</table><p>"
            ]
          },
          "metadata": {}
        }
      ]
    },
    {
      "cell_type": "code",
      "source": [
        "model.save_pretrained('/content/intent_model')\n",
        "tokenizer.save_pretrained('/content/intent_model')\n",
        "model = DistilBertForSequenceClassification.from_pretrained('/content/intent_model')\n",
        "tokenizer = BertTokenizer.from_pretrained('/content/intent_model')\n",
        "\n",
        "# Intent prediction function\n",
        "def predict_intent(user_query):\n",
        "    inputs = tokenizer(user_query, return_tensors=\"pt\", padding=True, truncation=True)\n",
        "    outputs = model(**inputs)\n",
        "    logits = outputs.logits\n",
        "    predicted_class = torch.argmax(logits, dim=1).item()\n",
        "    return unique_labels[predicted_class]"
      ],
      "metadata": {
        "id": "rUQs-M9bl7AY"
      },
      "execution_count": null,
      "outputs": []
    },
    {
      "cell_type": "markdown",
      "source": [
        "**Gradio interface**"
      ],
      "metadata": {
        "id": "aZzSbH8mmNOj"
      }
    },
    {
      "cell_type": "code",
      "source": [
        "# Gradio interface\n",
        "def chat_with_intent_recognition(user_query, response_mode):\n",
        "    intent = predict_intent(user_query)\n",
        "    response = get_response_with_context(user_query) if response_mode == \"With Context\" else get_response_without_context(user_query)\n",
        "    return f\"Intent: {intent}\\nResponse: {response}\"\n",
        "\n",
        "iface = gr.Interface(\n",
        "    fn=chat_with_intent_recognition,\n",
        "    inputs=[gr.Textbox(label=\"Your Query\"), gr.Radio([\"Without Context\", \"With Context\"], label=\"Response Mode\")],\n",
        "    outputs=\"text\",\n",
        "    live=True,\n",
        "    title=\"Intent-Aware Conversational Search\",\n",
        "    description=\"Classifies query intent and provides context-aware responses.\"\n",
        ")\n",
        "iface.launch()"
      ],
      "metadata": {
        "id": "yJD58d9rbMK2"
      },
      "execution_count": null,
      "outputs": []
    },
    {
      "cell_type": "code",
      "source": [],
      "metadata": {
        "id": "1Nv6A9GYbMOl"
      },
      "execution_count": null,
      "outputs": []
    },
    {
      "cell_type": "code",
      "source": [],
      "metadata": {
        "id": "COWs4cI-bMRX"
      },
      "execution_count": null,
      "outputs": []
    },
    {
      "cell_type": "markdown",
      "source": [
        "**Building the UI(user interface)**"
      ],
      "metadata": {
        "id": "jQlwlvvEB1Fq"
      }
    },
    {
      "cell_type": "code",
      "source": [
        "# Define the Gradio UI\n",
        "demo = gr.Interface(\n",
        "    fn=get_response,\n",
        "    inputs=gr.Textbox(label=\"Enter your search query\"),\n",
        "    outputs=gr.Textbox(label=\"Search Results\"),\n",
        "    title=\"Context-Aware Search (Customer service or support)\",\n",
        "    description=\"\"\"The dataset is adopted from Customer service chat in the areas of Automotive, Retail Banking, Education, Events & Ticketing,\n",
        "                            Field Services, Healthcare, Hospitality, Insurance, Legal Services, Manufacturing, Media Streaming, Mrtgages & Loans,\n",
        "                            Moving & Storage and Real Estate/Construction Enter a query, and the AI(Context Aware Customer service) model will return context-aware search results.\"\"\")\n",
        "\n",
        "\n",
        "# Launch the UI\n",
        "demo.launch(share=True)\n"
      ],
      "metadata": {
        "id": "oPzBCUlKwzkV",
        "collapsed": true
      },
      "execution_count": null,
      "outputs": []
    }
  ]
}